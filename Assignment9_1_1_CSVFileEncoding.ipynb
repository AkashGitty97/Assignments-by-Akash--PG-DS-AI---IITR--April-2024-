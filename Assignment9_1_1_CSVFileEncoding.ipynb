{
  "nbformat": 4,
  "nbformat_minor": 0,
  "metadata": {
    "colab": {
      "provenance": []
    },
    "kernelspec": {
      "name": "python3",
      "display_name": "Python 3"
    },
    "language_info": {
      "name": "python"
    }
  },
  "cells": [
    {
      "cell_type": "markdown",
      "source": [
        "Solution :\n",
        "\n",
        "1. For this we will be using simple ord conversion. This will help to convert char string to integer.\n",
        "2. But the range of char which are allowed in email id goes upto 122. This will create different int size for each char.\n",
        "3. To handle this we will offset the ord value to kee it below 99 (two digit). The allowed char in email starts with ord value as 43 (+), so we offset the ord value by 42.\n",
        "4. We will also make sure we always get two digit values (for 1 to 9) by using 02d formater\n",
        "5. We want the values to be int, so to avoid issues with leading 0, we can append 1 before the string so we dont lose the starting 0\n",
        "    1. *Other way to solve this is keep offset and 42-10. This way we start the values from 11 and not 01.*\n",
        "6. The code also take care of the header row (if present) but adds the header row in the created file.\n",
        "7. ***numeric_email_encrypter*** class in ***numeric_encrypter*** module is the main code for encrypting and decrypting.\n",
        "### IMPORTANT: Do not use any existing coder / encryptor for this problem"
      ],
      "metadata": {
        "id": "me6Xna8gEbNI"
      }
    },
    {
      "cell_type": "markdown",
      "source": [
        "numeric_encrypter.py"
      ],
      "metadata": {
        "id": "SiVwc3A6CzqR"
      }
    },
    {
      "cell_type": "code",
      "source": [
        "class numeric_email_encrypter:\n",
        "    def __init__(self):\n",
        "        self.encryption_offset = 42  # Email chars start from ASCII 43\n",
        "\n",
        "    def encrypt_email_id(self, email_id):\n",
        "        encrypted_email_id = \"1\"  # Add leading 1 to preserve leading zeros\n",
        "        for char in email_id:\n",
        "            if 43 <= ord(char) <= 122:\n",
        "                encrypted_email_id += f\"{ord(char) - self.encryption_offset:02d}\"\n",
        "            else:\n",
        "                print(f\"Invalid char '{char}' in email id. Cannot encrypt.\")\n",
        "                return None\n",
        "        return encrypted_email_id\n",
        "\n",
        "    def decrypt_email_id(self, encrypted_email_id):\n",
        "        if not encrypted_email_id.startswith('1') or len(encrypted_email_id) <= 1:\n",
        "            print(\"Invalid encrypted string. Cannot decrypt.\")\n",
        "            return None\n",
        "\n",
        "        decrypted_email_id = \"\"\n",
        "        encrypted_email_id = encrypted_email_id[1:]  # Remove the leading '1'\n",
        "\n",
        "        for i in range(0, len(encrypted_email_id), 2):\n",
        "            num = int(encrypted_email_id[i:i+2])\n",
        "            decrypted_email_id += chr(num + self.encryption_offset)\n",
        "        return decrypted_email_id\n"
      ],
      "metadata": {
        "id": "0OZNrpoRDCsm"
      },
      "execution_count": null,
      "outputs": []
    },
    {
      "cell_type": "markdown",
      "source": [
        "Encoder.py"
      ],
      "metadata": {
        "id": "utQg3DdLDFl4"
      }
    },
    {
      "cell_type": "code",
      "source": [
        "from numeric_encrypter import numeric_email_encrypter\n",
        "\n",
        "def encode_file(input_file_name, output_file_name):\n",
        "    encrypter = numeric_email_encrypter()\n",
        "\n",
        "    with open(input_file_name, 'r') as in_file, open(output_file_name, 'w') as out_file:\n",
        "        input_line = in_file.readline()\n",
        "        out_file.write(\"user_id,product_id,score\\n\")  # Header for output\n",
        "\n",
        "        while input_line:\n",
        "            values = input_line.strip().split(',')\n",
        "            if values[0] == \"user_email_id\":\n",
        "                input_line = in_file.readline()\n",
        "                continue\n",
        "\n",
        "            encrypted_email = encrypter.encrypt_email_id(values[0])\n",
        "            if encrypted_email is None:\n",
        "                input_line = in_file.readline()\n",
        "                continue  # Skip invalid lines\n",
        "\n",
        "            values[0] = encrypted_email\n",
        "            out_file.write(','.join(values) + \"\\n\")\n",
        "            input_line = in_file.readline()\n",
        "\n",
        "\n",
        "if __name__ == \"__main__\":\n",
        "    encode_file(\"data/our_data.csv\", \"data/encoded_data.csv\")\n"
      ],
      "metadata": {
        "id": "akwThilEDI2o"
      },
      "execution_count": null,
      "outputs": []
    },
    {
      "cell_type": "markdown",
      "source": [
        "Decoder.py"
      ],
      "metadata": {
        "id": "McQoe_H3DKwP"
      }
    },
    {
      "cell_type": "code",
      "source": [
        "from numeric_encrypter import numeric_email_encrypter\n",
        "\n",
        "def decode_file(input_file_name, output_file_name):\n",
        "    encrypter = numeric_email_encrypter()\n",
        "\n",
        "    with open(input_file_name, 'r') as in_file, open(output_file_name, 'w') as out_file:\n",
        "        input_line = in_file.readline()\n",
        "        out_file.write(\"user_email_id,product_id,score\\n\")  # Header for output\n",
        "\n",
        "        while input_line:\n",
        "            values = input_line.strip().split(',')\n",
        "            if values[0] == \"user_id\":\n",
        "                input_line = in_file.readline()\n",
        "                continue\n",
        "\n",
        "            decrypted_email = encrypter.decrypt_email_id(values[0])\n",
        "            if decrypted_email is None:\n",
        "                input_line = in_file.readline()\n",
        "                continue  # Skip invalid lines\n",
        "\n",
        "            values[0] = decrypted_email\n",
        "            out_file.write(','.join(values) + \"\\n\")\n",
        "            input_line = in_file.readline()\n",
        "\n",
        "\n",
        "if __name__ == \"__main__\":\n",
        "    decode_file(\"data/encoded_data.csv\", \"data/decoded_data.csv\")\n"
      ],
      "metadata": {
        "id": "TU0PusTCDP4n"
      },
      "execution_count": null,
      "outputs": []
    },
    {
      "cell_type": "markdown",
      "source": [
        "Sample Input File: data/our_data.csv"
      ],
      "metadata": {
        "id": "DI_NORhmDRzX"
      }
    },
    {
      "cell_type": "code",
      "source": [
        "user_email_id,product_id,score\n",
        "test.user+01@example.com,5,4.5\n",
        "alpha.beta@domain.net,6,3.0\n",
        "zebra_123@wildlife.org,3,2.8\n"
      ],
      "metadata": {
        "id": "rl7gkvWUDWay"
      },
      "execution_count": null,
      "outputs": []
    },
    {
      "cell_type": "markdown",
      "source": [
        "Encoder Output: encoded_data_test.csv"
      ],
      "metadata": {
        "id": "mcDGUhyHDo0G"
      }
    },
    {
      "cell_type": "code",
      "source": [
        "user_id,product_id,score\n",
        "175979837875858553614947576859616048576061,5,4.5\n",
        "175570667550846058495648615747596058,6,3.0\n",
        "176079586059564705163495448615962584558,3,2.8\n"
      ],
      "metadata": {
        "id": "KEIrhF38DpeH"
      },
      "execution_count": null,
      "outputs": []
    },
    {
      "cell_type": "markdown",
      "source": [
        "Decoder Output: decoded_data_test.csv"
      ],
      "metadata": {
        "id": "NmHWEKWqDy4v"
      }
    },
    {
      "cell_type": "code",
      "source": [
        "user_email_id,product_id,score\n",
        "test.user+01@example.com,5,4.5\n",
        "alpha.beta@domain.net,6,3.0\n",
        "zebra_123@wildlife.org,3,2.8\n"
      ],
      "metadata": {
        "id": "tSBYX-ZkDzc-"
      },
      "execution_count": null,
      "outputs": []
    }
  ]
}