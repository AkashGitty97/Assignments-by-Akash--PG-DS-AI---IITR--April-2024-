{
  "nbformat": 4,
  "nbformat_minor": 0,
  "metadata": {
    "colab": {
      "provenance": []
    },
    "kernelspec": {
      "name": "python3",
      "display_name": "Python 3"
    },
    "language_info": {
      "name": "python"
    }
  },
  "cells": [
    {
      "cell_type": "markdown",
      "source": [
        "Solution :\n",
        "\n",
        "1. For this we will be using mapping file. We will generate a random int64 number and map it to the email id.\n",
        "2. We will generate unique number for each email id and replace it in the encoded file.\n",
        "3. Limitation: This can only generate 2**64 unique numbers\n",
        "\n",
        "### **IMPORTANT: Do not use any existing coder / encryptor for this problem**"
      ],
      "metadata": {
        "id": "7sc-MaLrE0g_"
      }
    },
    {
      "cell_type": "markdown",
      "source": [
        "Encoder.py"
      ],
      "metadata": {
        "id": "lIbJqSl7E3tW"
      }
    },
    {
      "cell_type": "code",
      "source": [
        "import random\n",
        "import os\n",
        "\n",
        "def encode_file_usingmap(input_file_name, output_file_name, mapping_file_name):\n",
        "    used_numbers = set()\n",
        "    user_email_ids = {}\n",
        "\n",
        "    def get_unique_number():\n",
        "        while True:\n",
        "            num = random.getrandbits(64)\n",
        "            if num not in used_numbers:\n",
        "                used_numbers.add(num)\n",
        "                return num\n",
        "\n",
        "    with open(input_file_name, 'r') as in_file, \\\n",
        "         open(output_file_name, 'w') as out_file, \\\n",
        "         open(mapping_file_name, 'w') as mapping_file:\n",
        "\n",
        "        out_file.write(\"user_id,product_id,score\\n\")\n",
        "        mapping_file.write(\"user_id_number,user_id\\n\")\n",
        "\n",
        "        for line in in_file:\n",
        "            values = line.strip().split(',')\n",
        "\n",
        "            if values[0] == \"user_email_id\":\n",
        "                continue  # Skip header\n",
        "\n",
        "            email = values[0]\n",
        "            if email in user_email_ids:\n",
        "                unique_id = user_email_ids[email]\n",
        "            else:\n",
        "                unique_id = get_unique_number()\n",
        "                user_email_ids[email] = unique_id\n",
        "                mapping_file.write(f\"{unique_id},{email}\\n\")\n",
        "\n",
        "            values[0] = str(unique_id)\n",
        "            out_file.write(','.join(values) + \"\\n\")\n",
        "\n",
        "\n",
        "if __name__ == \"__main__\":\n",
        "    encode_file_usingmap(\"data/our_data.csv\", \"data/encoded_data.csv\", \"data/email_mapping.csv\")\n"
      ],
      "metadata": {
        "id": "qPCctaB0E_kC"
      },
      "execution_count": null,
      "outputs": []
    },
    {
      "cell_type": "markdown",
      "source": [
        "Decoder.py"
      ],
      "metadata": {
        "id": "sEx-n6V8FBql"
      }
    },
    {
      "cell_type": "code",
      "source": [
        "import os\n",
        "\n",
        "def decode_file_usingmap(input_file_name, output_file_name, mapping_file_name):\n",
        "    def get_userid_mapping(mapping_file_name):\n",
        "        with open(mapping_file_name, 'r') as map_file:\n",
        "            lines = map_file.readlines()[1:]  # skip header\n",
        "            return {key: value for key, value in (line.strip().split(',') for line in lines)}\n",
        "\n",
        "    user_map = get_userid_mapping(mapping_file_name)\n",
        "\n",
        "    with open(input_file_name, 'r') as in_file, open(output_file_name, 'w') as out_file:\n",
        "        out_file.write(\"user_email_id,product_id,score\\n\")\n",
        "\n",
        "        for line in in_file:\n",
        "            values = line.strip().split(',')\n",
        "\n",
        "            if values[0] == \"user_id\":\n",
        "                continue  # Skip header\n",
        "\n",
        "            values[0] = user_map.get(values[0], \"UNKNOWN_EMAIL\")\n",
        "            out_file.write(','.join(values) + \"\\n\")\n",
        "\n",
        "\n",
        "if __name__ == \"__main__\":\n",
        "    decode_file_usingmap(\"data/encoded_data.csv\", \"data/decoded_data.csv\", \"data/email_mapping.csv\")\n"
      ],
      "metadata": {
        "id": "8h_wZDarFEIm"
      },
      "execution_count": null,
      "outputs": []
    },
    {
      "cell_type": "markdown",
      "source": [
        "Sample Input File\n",
        "\n"
      ],
      "metadata": {
        "id": "xmE3Kz7FFTQ2"
      }
    },
    {
      "cell_type": "code",
      "source": [
        "user_email_id,product_id,score\n",
        "alice@example.com,10,4.0\n",
        "bob_the_builder@fixit.com,12,3.8\n",
        "charlie123@nowhere.org,14,2.5\n"
      ],
      "metadata": {
        "id": "3Rt-djV2FWSn"
      },
      "execution_count": null,
      "outputs": []
    },
    {
      "cell_type": "markdown",
      "source": [
        "Encoder Output:"
      ],
      "metadata": {
        "id": "Mi1WZJRWFYSd"
      }
    },
    {
      "cell_type": "code",
      "source": [
        "user_id,product_id,score\n",
        "10293847561028374658,10,4.0\n",
        "99887766554433221100,12,3.8\n",
        "12345678901234567890,14,2.5\n"
      ],
      "metadata": {
        "id": "ak0_0Qj1FaQ1"
      },
      "execution_count": null,
      "outputs": []
    },
    {
      "cell_type": "markdown",
      "source": [
        "Mapping File:"
      ],
      "metadata": {
        "id": "Zgu5MITGFezV"
      }
    },
    {
      "cell_type": "code",
      "source": [
        "user_id_number,user_id\n",
        "10293847561028374658,alice@example.com\n",
        "99887766554433221100,bob_the_builder@fixit.com\n",
        "12345678901234567890,charlie123@nowhere.org\n"
      ],
      "metadata": {
        "id": "0saKXTpjFfn0"
      },
      "execution_count": null,
      "outputs": []
    },
    {
      "cell_type": "markdown",
      "source": [
        "Decoded Output:"
      ],
      "metadata": {
        "id": "JiyzBu62Ftg1"
      }
    },
    {
      "cell_type": "code",
      "source": [
        "user_email_id,product_id,score\n",
        "alice@example.com,10,4.0\n",
        "bob_the_builder@fixit.com,12,3.8\n",
        "charlie123@nowhere.org,14,2.5\n"
      ],
      "metadata": {
        "id": "G-4VGc7uFuPf"
      },
      "execution_count": null,
      "outputs": []
    }
  ]
}